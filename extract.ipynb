{
 "cells": [
  {
   "cell_type": "code",
   "execution_count": 2,
   "metadata": {},
   "outputs": [],
   "source": [
    "import psycopg2\n",
    "import pandas as pd\n"
   ]
  },
  {
   "cell_type": "code",
   "execution_count": 1,
   "metadata": {},
   "outputs": [],
   "source": [
    "\n",
    "# Database connection details\n",
    "host = # insert host name\n",
    "username = #insert username\n",
    "password = #insert password\n",
    "dbname = #insert dbname\n",
    "port = #insert port number\n",
    "\n",
    "# Establish a connection to the database\n",
    "conn = psycopg2.connect(\n",
    "    host=host,\n",
    "    user=username,\n",
    "    password=password,\n",
    "    dbname=dbname,\n",
    "    port=port\n",
    ")\n",
    "\n",
    "# Create a cursor object to execute queries\n",
    "cur = conn.cursor()\n",
    "\n",
    "# Execute a sample query\n",
    "cur.execute(\"SELECT * FROM items\")\n",
    "\n",
    "# Fetch all rows from the result\n",
    "rows = cur.fetchall()\n",
    "\n",
    "# Create a DataFrame from the fetched rows\n",
    "df = pd.DataFrame(rows, columns=[desc[0] for desc in cur.description])\n",
    "\n",
    "# Print the DataFrame\n",
    "print(df)\n",
    "\n",
    "# Close the cursor and connection\n",
    "cur.close()\n",
    "conn.close()\n",
    "\n"
   ]
  },
  {
   "cell_type": "code",
   "execution_count": 4,
   "metadata": {},
   "outputs": [],
   "source": [
    "df.to_csv(\"main_data.csv\", index=False)"
   ]
  }
 ],
 "metadata": {
  "kernelspec": {
   "display_name": "base",
   "language": "python",
   "name": "python3"
  },
  "language_info": {
   "codemirror_mode": {
    "name": "ipython",
    "version": 3
   },
   "file_extension": ".py",
   "mimetype": "text/x-python",
   "name": "python",
   "nbconvert_exporter": "python",
   "pygments_lexer": "ipython3",
   "version": "3.9.7"
  },
  "orig_nbformat": 4
 },
 "nbformat": 4,
 "nbformat_minor": 2
}

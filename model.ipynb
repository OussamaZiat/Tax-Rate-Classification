{
 "cells": [
  {
   "cell_type": "code",
   "execution_count": 1,
   "metadata": {},
   "outputs": [
    {
     "name": "stderr",
     "output_type": "stream",
     "text": [
      "<frozen importlib._bootstrap>:228: RuntimeWarning: scipy._lib.messagestream.MessageStream size changed, may indicate binary incompatibility. Expected 56 from C header, got 64 from PyObject\n",
      "c:\\Users\\oussa\\miniconda3\\lib\\site-packages\\xgboost\\compat.py:36: FutureWarning: pandas.Int64Index is deprecated and will be removed from pandas in a future version. Use pandas.Index with the appropriate dtype instead.\n",
      "  from pandas import MultiIndex, Int64Index\n"
     ]
    }
   ],
   "source": [
    "# Import necessary libraries\n",
    "import pandas as pd\n",
    "import numpy as np\n",
    "import matplotlib.pyplot as plt\n",
    "import re\n",
    "from sklearn.preprocessing import RobustScaler\n",
    "from sklearn.model_selection import GridSearchCV\n",
    "from sklearn.tree import DecisionTreeClassifier\n",
    "from scipy.stats import boxcox\n",
    "from sklearn.metrics import accuracy_score, classification_report, precision_score, recall_score, roc_curve, roc_auc_score\n",
    "from sklearn.feature_extraction.text import CountVectorizer\n",
    "from sklearn.model_selection import train_test_split, GridSearchCV\n",
    "from sklearn.linear_model import LogisticRegression\n",
    "from sklearn.ensemble import GradientBoostingClassifier, RandomForestClassifier\n",
    "from sklearn.neighbors import KNeighborsClassifier\n",
    "from sklearn.svm import SVC\n",
    "from sklearn.tree import DecisionTreeClassifier\n",
    "from xgboost import XGBClassifier\n",
    "import warnings\n",
    "\n",
    "warnings.filterwarnings(\"ignore\")\n",
    "\n",
    "\n",
    "# Set up matplotlib for inline plotting\n",
    "%matplotlib inline\n"
   ]
  },
  {
   "cell_type": "code",
   "execution_count": 2,
   "metadata": {},
   "outputs": [],
   "source": [
    "#Upload our data \n",
    "df=pd.read_csv(\"main_data.csv\")"
   ]
  },
  {
   "attachments": {},
   "cell_type": "markdown",
   "metadata": {},
   "source": [
    "## Project: Classification by TaxRate\n",
    "Every day, KillBills handles countless receipts. My goal is to sort this data into groups or create a system that can predict what category an item belongs to. I plan to do this by looking at the tax rate for each item. This means I will need to change the 'taxRate' column in the data to show different categories based on the tax percentage. We'll use a clear rule to do this:\n",
    "\n",
    "- Tax Rate between 0% and 6%:`` Low Tax Rate``\n",
    "- Tax Rate from 6% up to 12%: ``Medium Tax Rate``\n",
    "- Tax Rate over 12%: ``High Tax Rate``\n",
    "- Tax Rate of 0%: ``No tax``\n",
    "\n",
    "\n",
    "**We are going to follow this process:**\n",
    "- Perform exploratory data analysis (EDA) and address any missing data.\n",
    "- Conduct data cleansing and identification of missing values.\n",
    "- Carry out an examination of the tax rate data to uncover patterns.\n",
    "- Prepare the data for model training and testing.\n",
    "- Opt for the most appropriate predictive model."
   ]
  },
  {
   "cell_type": "code",
   "execution_count": 3,
   "metadata": {},
   "outputs": [
    {
     "data": {
      "text/html": [
       "<div>\n",
       "<style scoped>\n",
       "    .dataframe tbody tr th:only-of-type {\n",
       "        vertical-align: middle;\n",
       "    }\n",
       "\n",
       "    .dataframe tbody tr th {\n",
       "        vertical-align: top;\n",
       "    }\n",
       "\n",
       "    .dataframe thead th {\n",
       "        text-align: right;\n",
       "    }\n",
       "</style>\n",
       "<table border=\"1\" class=\"dataframe\">\n",
       "  <thead>\n",
       "    <tr style=\"text-align: right;\">\n",
       "      <th></th>\n",
       "      <th>id</th>\n",
       "      <th>amount</th>\n",
       "      <th>description</th>\n",
       "      <th>date</th>\n",
       "      <th>itemName</th>\n",
       "      <th>parent</th>\n",
       "      <th>quantity</th>\n",
       "      <th>taxAmount</th>\n",
       "      <th>taxDescription</th>\n",
       "      <th>type</th>\n",
       "      <th>storeId</th>\n",
       "      <th>createdAt</th>\n",
       "      <th>updatedAt</th>\n",
       "      <th>taxRate</th>\n",
       "    </tr>\n",
       "  </thead>\n",
       "  <tbody>\n",
       "    <tr>\n",
       "      <th>0</th>\n",
       "      <td>95622ac5-f517-4394-9691-830c1d72d4d7</td>\n",
       "      <td>0.00</td>\n",
       "      <td>NaN</td>\n",
       "      <td>NaN</td>\n",
       "      <td>goodbye california - medium</td>\n",
       "      <td>NaN</td>\n",
       "      <td>NaN</td>\n",
       "      <td>0.00</td>\n",
       "      <td>TVA 0 %</td>\n",
       "      <td>NaN</td>\n",
       "      <td>f2eb401d-585d-410f-aff9-e35f67ee9e2d</td>\n",
       "      <td>2023-04-05 17:36:33.471000+00:00</td>\n",
       "      <td>2023-04-05 17:36:33.471000+00:00</td>\n",
       "      <td>0</td>\n",
       "    </tr>\n",
       "    <tr>\n",
       "      <th>1</th>\n",
       "      <td>97418c24-8c15-4055-9259-c8af699c68fe</td>\n",
       "      <td>13.95</td>\n",
       "      <td>NaN</td>\n",
       "      <td>NaN</td>\n",
       "      <td>formule boeuf  🥙🍟🥤</td>\n",
       "      <td>NaN</td>\n",
       "      <td>NaN</td>\n",
       "      <td>1.17</td>\n",
       "      <td>TVA 0 %</td>\n",
       "      <td>menu</td>\n",
       "      <td>897a3d79-b358-4a76-b9bb-f72c857a5565</td>\n",
       "      <td>2023-04-05 17:36:34.006000+00:00</td>\n",
       "      <td>2023-04-05 17:36:34.006000+00:00</td>\n",
       "      <td>0</td>\n",
       "    </tr>\n",
       "    <tr>\n",
       "      <th>2</th>\n",
       "      <td>401d801d-6aa0-4eda-b387-6c739b3da293</td>\n",
       "      <td>8.60</td>\n",
       "      <td>NaN</td>\n",
       "      <td>NaN</td>\n",
       "      <td>pita boeuf</td>\n",
       "      <td>NaN</td>\n",
       "      <td>NaN</td>\n",
       "      <td>0.78</td>\n",
       "      <td>TVA 10 %</td>\n",
       "      <td>NaN</td>\n",
       "      <td>897a3d79-b358-4a76-b9bb-f72c857a5565</td>\n",
       "      <td>2023-04-05 17:36:34.011000+00:00</td>\n",
       "      <td>2023-04-05 17:36:34.011000+00:00</td>\n",
       "      <td>1000</td>\n",
       "    </tr>\n",
       "    <tr>\n",
       "      <th>3</th>\n",
       "      <td>68a5b978-0547-4af9-9829-5417a8c76c7b</td>\n",
       "      <td>3.02</td>\n",
       "      <td>NaN</td>\n",
       "      <td>NaN</td>\n",
       "      <td>frites 🍟</td>\n",
       "      <td>NaN</td>\n",
       "      <td>NaN</td>\n",
       "      <td>0.27</td>\n",
       "      <td>TVA 10 %</td>\n",
       "      <td>NaN</td>\n",
       "      <td>897a3d79-b358-4a76-b9bb-f72c857a5565</td>\n",
       "      <td>2023-04-05 17:36:34.011000+00:00</td>\n",
       "      <td>2023-04-05 17:36:34.011000+00:00</td>\n",
       "      <td>1000</td>\n",
       "    </tr>\n",
       "    <tr>\n",
       "      <th>4</th>\n",
       "      <td>3633ca34-5beb-42a8-a410-b1dd545f80d8</td>\n",
       "      <td>2.33</td>\n",
       "      <td>NaN</td>\n",
       "      <td>NaN</td>\n",
       "      <td>coca cherry 33cl</td>\n",
       "      <td>NaN</td>\n",
       "      <td>NaN</td>\n",
       "      <td>0.12</td>\n",
       "      <td>TVA 5.5 %</td>\n",
       "      <td>NaN</td>\n",
       "      <td>897a3d79-b358-4a76-b9bb-f72c857a5565</td>\n",
       "      <td>2023-04-05 17:36:34.011000+00:00</td>\n",
       "      <td>2023-04-05 17:36:34.011000+00:00</td>\n",
       "      <td>550</td>\n",
       "    </tr>\n",
       "  </tbody>\n",
       "</table>\n",
       "</div>"
      ],
      "text/plain": [
       "                                     id  amount description  date  \\\n",
       "0  95622ac5-f517-4394-9691-830c1d72d4d7    0.00         NaN   NaN   \n",
       "1  97418c24-8c15-4055-9259-c8af699c68fe   13.95         NaN   NaN   \n",
       "2  401d801d-6aa0-4eda-b387-6c739b3da293    8.60         NaN   NaN   \n",
       "3  68a5b978-0547-4af9-9829-5417a8c76c7b    3.02         NaN   NaN   \n",
       "4  3633ca34-5beb-42a8-a410-b1dd545f80d8    2.33         NaN   NaN   \n",
       "\n",
       "                      itemName  parent  quantity  taxAmount taxDescription  \\\n",
       "0  goodbye california - medium     NaN       NaN       0.00        TVA 0 %   \n",
       "1           formule boeuf  🥙🍟🥤     NaN       NaN       1.17        TVA 0 %   \n",
       "2                   pita boeuf     NaN       NaN       0.78       TVA 10 %   \n",
       "3                     frites 🍟     NaN       NaN       0.27       TVA 10 %   \n",
       "4             coca cherry 33cl     NaN       NaN       0.12      TVA 5.5 %   \n",
       "\n",
       "   type                               storeId  \\\n",
       "0   NaN  f2eb401d-585d-410f-aff9-e35f67ee9e2d   \n",
       "1  menu  897a3d79-b358-4a76-b9bb-f72c857a5565   \n",
       "2   NaN  897a3d79-b358-4a76-b9bb-f72c857a5565   \n",
       "3   NaN  897a3d79-b358-4a76-b9bb-f72c857a5565   \n",
       "4   NaN  897a3d79-b358-4a76-b9bb-f72c857a5565   \n",
       "\n",
       "                          createdAt                         updatedAt  taxRate  \n",
       "0  2023-04-05 17:36:33.471000+00:00  2023-04-05 17:36:33.471000+00:00        0  \n",
       "1  2023-04-05 17:36:34.006000+00:00  2023-04-05 17:36:34.006000+00:00        0  \n",
       "2  2023-04-05 17:36:34.011000+00:00  2023-04-05 17:36:34.011000+00:00     1000  \n",
       "3  2023-04-05 17:36:34.011000+00:00  2023-04-05 17:36:34.011000+00:00     1000  \n",
       "4  2023-04-05 17:36:34.011000+00:00  2023-04-05 17:36:34.011000+00:00      550  "
      ]
     },
     "execution_count": 3,
     "metadata": {},
     "output_type": "execute_result"
    }
   ],
   "source": [
    "df.head()"
   ]
  },
  {
   "attachments": {},
   "cell_type": "markdown",
   "metadata": {},
   "source": [
    "## **Data Exploration:**"
   ]
  },
  {
   "attachments": {},
   "cell_type": "markdown",
   "metadata": {},
   "source": [
    "### **``Handling Missing values:``**"
   ]
  },
  {
   "cell_type": "code",
   "execution_count": 4,
   "metadata": {},
   "outputs": [
    {
     "name": "stdout",
     "output_type": "stream",
     "text": [
      "Number of rows: 3142890.\n",
      "\n",
      "Number of columns: 14.\n",
      "\n",
      "Columns: ['id' 'amount' 'description' 'date' 'itemName' 'parent' 'quantity'\n",
      " 'taxAmount' 'taxDescription' 'type' 'storeId' 'createdAt' 'updatedAt'\n",
      " 'taxRate']\n",
      "\n",
      "Data type:\n",
      " id                 object\n",
      "amount            float64\n",
      "description        object\n",
      "date              float64\n",
      "itemName           object\n",
      "parent            float64\n",
      "quantity          float64\n",
      "taxAmount         float64\n",
      "taxDescription     object\n",
      "type               object\n",
      "storeId            object\n",
      "createdAt          object\n",
      "updatedAt          object\n",
      "taxRate             int64\n",
      "dtype: object\n"
     ]
    }
   ],
   "source": [
    "print(f\"Number of rows: {df.shape[0]}.\\n\")\n",
    "print(f\"Number of columns: {df.shape[1]}.\\n\")\n",
    "print(f\"Columns: {df.columns.values}\\n\")\n",
    "print(f'Data type:\\n {df.dtypes}')\n"
   ]
  },
  {
   "cell_type": "code",
   "execution_count": 5,
   "metadata": {},
   "outputs": [
    {
     "name": "stdout",
     "output_type": "stream",
     "text": [
      "Missing values:\n",
      "id                      0\n",
      "amount                  0\n",
      "description       2901154\n",
      "date              3142890\n",
      "itemName               28\n",
      "parent            3142890\n",
      "quantity          3142890\n",
      "taxAmount               0\n",
      "taxDescription          0\n",
      "type              2999220\n",
      "storeId                 0\n",
      "createdAt               0\n",
      "updatedAt               0\n",
      "taxRate                 0\n",
      "dtype: int64\n"
     ]
    }
   ],
   "source": [
    "# Count the number of missing values in each column\n",
    "missing_values = df.isnull().sum()\n",
    "print(f\"Missing values:\\n{missing_values}\")"
   ]
  },
  {
   "attachments": {},
   "cell_type": "markdown",
   "metadata": {},
   "source": [
    "To efficiently manage the missing values, cleanse the data, and enhance its comprehensibility, we propose the following steps::\n",
    "\n",
    "- Discard the **parent**, **quantity**, and **date** columns, as they are empty.\n",
    "- Remove the **updatedAt** column as it is a deplucate of the **createdAt** column.\n",
    "- Dismiss the **taxDescription** column as it merely duplicates the information presented in the **TaxRate** column.\n",
    "- The **Description** column containing 92.3% missing values, it's prudent to exclude this column.\n",
    "- Convert the **id** from its existing ``UUID`` format to a more straightforward integer format (1, 2, 3, etc.).\n",
    "- Similarly, alter the **storeId** from the ``UUID`` format to an integer format.\n",
    "- Construct a new **taxRateClass** column to house the previously defined Tax Rate Classes.\n",
    "- Delete any rows that have a missing **itemName** to preserve data integrity.\n",
    "- Split the **createdAt** into different columns for easier use: day_of_month, day_of_week, and hour."
   ]
  },
  {
   "attachments": {},
   "cell_type": "markdown",
   "metadata": {},
   "source": [
    "#### Are the columns `date`, `parent`, `quantity` columns empty?"
   ]
  },
  {
   "cell_type": "code",
   "execution_count": 6,
   "metadata": {},
   "outputs": [
    {
     "name": "stdout",
     "output_type": "stream",
     "text": [
      "Is the 'date' column empty?: YES\n",
      "Is the 'parent' column empty?: YES\n",
      "Is the 'quantity' column empty?: YES\n"
     ]
    }
   ],
   "source": [
    "# It  Looks like the 'date', 'parent', and 'quantity' columns are empty. \n",
    "# So, we're just going to get rid of these columns.\n",
    "b_date = \"YES\" if df[\"date\"].isnull().sum()==df.shape[0] else \"No\"\n",
    "b_parent = \"YES\" if df[\"parent\"].isnull().sum()==df.shape[0] else \"No\"\n",
    "b_quantity = \"YES\" if df[\"quantity\"].isnull().sum()==df.shape[0] else \"No\"\n",
    "print(f\"Is the 'date' column empty?: {b_date}\")\n",
    "print(f\"Is the 'parent' column empty?: {b_parent}\")\n",
    "print(f\"Is the 'quantity' column empty?: {b_quantity}\")"
   ]
  },
  {
   "cell_type": "code",
   "execution_count": 7,
   "metadata": {},
   "outputs": [],
   "source": [
    "# deleteing the `date`, `parent`, `quantity` columns.\n",
    "df=df.drop(['date', 'parent', 'quantity'], axis=1)"
   ]
  },
  {
   "attachments": {},
   "cell_type": "markdown",
   "metadata": {},
   "source": [
    "#### Is `updatedAt` column a duplicate of the `createdAt`?"
   ]
  },
  {
   "cell_type": "code",
   "execution_count": 8,
   "metadata": {},
   "outputs": [
    {
     "name": "stdout",
     "output_type": "stream",
     "text": [
      "Is `updatedAt` column a duplicate of the `createdAt? : Yes\n"
     ]
    }
   ],
   "source": [
    "# I did observe that the 'CreatedAt' et 'UpdatedAt' are duplicates and we can see it thanks to:\n",
    "df['createdAt'] = pd.to_datetime(df['createdAt'])\n",
    "df['updatedAt'] = pd.to_datetime(df['updatedAt'])\n",
    "b_duplicated= 'Yes' if (df['createdAt']==df['updatedAt']).sum() == df.shape[0] else 'No'\n",
    "print(f'Is `updatedAt` column a duplicate of the `createdAt? : {b_duplicated}')"
   ]
  },
  {
   "cell_type": "code",
   "execution_count": 9,
   "metadata": {},
   "outputs": [],
   "source": [
    "## Hence, we can simply drop the 'updatedAt' column which is not needed\n",
    "df=df.drop(['updatedAt'], axis=1)"
   ]
  },
  {
   "attachments": {},
   "cell_type": "markdown",
   "metadata": {},
   "source": [
    "#### Does the ``taxDescription`` column  duplicates the information presented in the ``TaxRate`` column ?"
   ]
  },
  {
   "attachments": {},
   "cell_type": "markdown",
   "metadata": {},
   "source": [
    "From initial observation, it appears that when the `taxRate` is set to 550, the corresponding `taxDescription` is **\"TVA 5.5 %\"**. Moreover, when the `taxRate` is equal to 0, the `taxDescription` can take one of two possible values: **\"TVA 0 %\"** or **\"noTaxDescription\"**. Let's investigate further to confirm whether these assumptions hold true.\n"
   ]
  },
  {
   "cell_type": "code",
   "execution_count": 10,
   "metadata": {},
   "outputs": [
    {
     "name": "stdout",
     "output_type": "stream",
     "text": [
      "Does the ``taxDescription`` column  duplicates the information presented in the ``TaxRate`` column ?: Yes \n"
     ]
    }
   ],
   "source": [
    "#The function help will take as a value a string and execute a transformation\n",
    "#the value in the taxDescription column is \"TVA n %\" or \"noTaxDescription\"\n",
    "#the function will return the taxDescription transformed (n*100 or 0 if the value is \"noTaxDescription\" )\n",
    "def help(ss):\n",
    "    if ss[0]=='T':\n",
    "        # The \\d+ pattern means \"one or more digits\"\n",
    "        numbers = re.findall(r\"[-+]?\\d*\\.\\d+|[-+]?\\d+\", ss)\n",
    "\n",
    "        # The result is a list of strings, so convert to int if needed:\n",
    "        return float(numbers[0])*100\n",
    "    return 0\n",
    "df['transformed_taxDescription'] = df['taxDescription'].apply(help)\n",
    "#We see if obtained a duplicate of the taxRate column using this tarnsformation\n",
    "#Spoiler Alert: we did\n",
    "b_taxD= 'Yes' if (df['transformed_taxDescription']==df['taxRate']).sum() == df.shape[0] else 'No'\n",
    "print(f\"Does the ``taxDescription`` column  duplicates the information presented in the ``TaxRate`` column ?: {b_taxD} \")\n"
   ]
  },
  {
   "cell_type": "code",
   "execution_count": 11,
   "metadata": {},
   "outputs": [],
   "source": [
    "## Hence, we can simply drop the 'updatedAt' column which is not needed\n",
    "df=df.drop(['taxDescription', \"transformed_taxDescription\"], axis=1)"
   ]
  },
  {
   "attachments": {},
   "cell_type": "markdown",
   "metadata": {},
   "source": [
    "#### What is the percentage of missing values in the `description` column?"
   ]
  },
  {
   "cell_type": "code",
   "execution_count": 12,
   "metadata": {},
   "outputs": [
    {
     "name": "stdout",
     "output_type": "stream",
     "text": [
      "the percentage of missing values in the `description` column: 92.308%\n"
     ]
    }
   ],
   "source": [
    "print(f\"the percentage of missing values in the `description` column: {round(df['description'].isnull().sum()/df.shape[0]*100, 3)}%\")"
   ]
  },
  {
   "cell_type": "code",
   "execution_count": 13,
   "metadata": {},
   "outputs": [],
   "source": [
    "## Hence, we can simply drop the 'updatedAt' column which is not needed\n",
    "df=df.drop(['description'], axis=1)"
   ]
  },
  {
   "attachments": {},
   "cell_type": "markdown",
   "metadata": {},
   "source": [
    "#### Delete any rows that exhibit a missing ``itemName`` to preserve data integrity.\n"
   ]
  },
  {
   "cell_type": "code",
   "execution_count": 14,
   "metadata": {},
   "outputs": [],
   "source": [
    "df.dropna(subset=['itemName'], inplace=True)"
   ]
  },
  {
   "cell_type": "code",
   "execution_count": 15,
   "metadata": {},
   "outputs": [],
   "source": [
    "df = df[df['amount'] >= 0]\n"
   ]
  },
  {
   "attachments": {},
   "cell_type": "markdown",
   "metadata": {},
   "source": [
    "### **``Data extraction:``** "
   ]
  },
  {
   "attachments": {},
   "cell_type": "markdown",
   "metadata": {},
   "source": [
    "#### Converting The `id` and `storeId` from **UUID** format to integer format:"
   ]
  },
  {
   "cell_type": "code",
   "execution_count": 16,
   "metadata": {},
   "outputs": [],
   "source": [
    "factorized_values, _ = pd.factorize(df['storeId'])\n",
    "df['storeId'] = factorized_values + 1\n",
    "\n",
    "factorized_values_2, _ = pd.factorize(df['id'])\n",
    "df['id'] = factorized_values_2 "
   ]
  },
  {
   "cell_type": "code",
   "execution_count": 17,
   "metadata": {},
   "outputs": [
    {
     "data": {
      "text/html": [
       "<div>\n",
       "<style scoped>\n",
       "    .dataframe tbody tr th:only-of-type {\n",
       "        vertical-align: middle;\n",
       "    }\n",
       "\n",
       "    .dataframe tbody tr th {\n",
       "        vertical-align: top;\n",
       "    }\n",
       "\n",
       "    .dataframe thead th {\n",
       "        text-align: right;\n",
       "    }\n",
       "</style>\n",
       "<table border=\"1\" class=\"dataframe\">\n",
       "  <thead>\n",
       "    <tr style=\"text-align: right;\">\n",
       "      <th></th>\n",
       "      <th>id</th>\n",
       "      <th>amount</th>\n",
       "      <th>itemName</th>\n",
       "      <th>taxAmount</th>\n",
       "      <th>type</th>\n",
       "      <th>storeId</th>\n",
       "      <th>createdAt</th>\n",
       "      <th>taxRate</th>\n",
       "    </tr>\n",
       "  </thead>\n",
       "  <tbody>\n",
       "    <tr>\n",
       "      <th>113390</th>\n",
       "      <td>113325</td>\n",
       "      <td>0.07</td>\n",
       "      <td>hamb cheddar</td>\n",
       "      <td>0.01</td>\n",
       "      <td>NaN</td>\n",
       "      <td>82</td>\n",
       "      <td>2023-04-08 16:22:30.427000+00:00</td>\n",
       "      <td>1000</td>\n",
       "    </tr>\n",
       "    <tr>\n",
       "      <th>1439169</th>\n",
       "      <td>1438168</td>\n",
       "      <td>1.40</td>\n",
       "      <td>cafe expresso comptoir</td>\n",
       "      <td>0.13</td>\n",
       "      <td>NaN</td>\n",
       "      <td>67</td>\n",
       "      <td>2023-05-12 05:23:28.573000+00:00</td>\n",
       "      <td>1000</td>\n",
       "    </tr>\n",
       "    <tr>\n",
       "      <th>1779330</th>\n",
       "      <td>1777999</td>\n",
       "      <td>2.50</td>\n",
       "      <td>allongé</td>\n",
       "      <td>0.23</td>\n",
       "      <td>NaN</td>\n",
       "      <td>1490</td>\n",
       "      <td>2023-05-14 10:04:03.924000+00:00</td>\n",
       "      <td>1000</td>\n",
       "    </tr>\n",
       "    <tr>\n",
       "      <th>1771314</th>\n",
       "      <td>1769988</td>\n",
       "      <td>2.50</td>\n",
       "      <td>pression 25cl</td>\n",
       "      <td>0.20</td>\n",
       "      <td>NaN</td>\n",
       "      <td>111</td>\n",
       "      <td>2023-05-14 08:21:34.243000+00:00</td>\n",
       "      <td>850</td>\n",
       "    </tr>\n",
       "    <tr>\n",
       "      <th>158288</th>\n",
       "      <td>158202</td>\n",
       "      <td>3.47</td>\n",
       "      <td>yakitori beef cheese</td>\n",
       "      <td>0.18</td>\n",
       "      <td>NaN</td>\n",
       "      <td>137</td>\n",
       "      <td>2023-04-13 17:06:24.389000+00:00</td>\n",
       "      <td>550</td>\n",
       "    </tr>\n",
       "    <tr>\n",
       "      <th>2794884</th>\n",
       "      <td>2792852</td>\n",
       "      <td>6.75</td>\n",
       "      <td>fondant cheese</td>\n",
       "      <td>0.61</td>\n",
       "      <td>NaN</td>\n",
       "      <td>1441</td>\n",
       "      <td>2023-05-22 20:09:22.581000+00:00</td>\n",
       "      <td>1000</td>\n",
       "    </tr>\n",
       "    <tr>\n",
       "      <th>1651832</th>\n",
       "      <td>1650629</td>\n",
       "      <td>35.00</td>\n",
       "      <td>laruns fermier</td>\n",
       "      <td>0.44</td>\n",
       "      <td>NaN</td>\n",
       "      <td>366</td>\n",
       "      <td>2023-05-13 13:59:14.600000+00:00</td>\n",
       "      <td>550</td>\n",
       "    </tr>\n",
       "    <tr>\n",
       "      <th>2747260</th>\n",
       "      <td>2745277</td>\n",
       "      <td>22.90</td>\n",
       "      <td>menu néo bento saumon passion</td>\n",
       "      <td>2.08</td>\n",
       "      <td>menu</td>\n",
       "      <td>702</td>\n",
       "      <td>2023-05-22 10:56:24.780000+00:00</td>\n",
       "      <td>1000</td>\n",
       "    </tr>\n",
       "    <tr>\n",
       "      <th>2865208</th>\n",
       "      <td>2863124</td>\n",
       "      <td>2.11</td>\n",
       "      <td>san pellegrino 50cl</td>\n",
       "      <td>0.11</td>\n",
       "      <td>NaN</td>\n",
       "      <td>1603</td>\n",
       "      <td>2023-05-23 14:02:26.629000+00:00</td>\n",
       "      <td>550</td>\n",
       "    </tr>\n",
       "    <tr>\n",
       "      <th>744877</th>\n",
       "      <td>744402</td>\n",
       "      <td>15.90</td>\n",
       "      <td>côté veggie</td>\n",
       "      <td>0.83</td>\n",
       "      <td>NaN</td>\n",
       "      <td>46</td>\n",
       "      <td>2023-05-06 16:46:26.174000+00:00</td>\n",
       "      <td>550</td>\n",
       "    </tr>\n",
       "  </tbody>\n",
       "</table>\n",
       "</div>"
      ],
      "text/plain": [
       "              id  amount                       itemName  taxAmount  type  \\\n",
       "113390    113325    0.07                   hamb cheddar       0.01   NaN   \n",
       "1439169  1438168    1.40         cafe expresso comptoir       0.13   NaN   \n",
       "1779330  1777999    2.50                        allongé       0.23   NaN   \n",
       "1771314  1769988    2.50                  pression 25cl       0.20   NaN   \n",
       "158288    158202    3.47           yakitori beef cheese       0.18   NaN   \n",
       "2794884  2792852    6.75                 fondant cheese       0.61   NaN   \n",
       "1651832  1650629   35.00                 laruns fermier       0.44   NaN   \n",
       "2747260  2745277   22.90  menu néo bento saumon passion       2.08  menu   \n",
       "2865208  2863124    2.11            san pellegrino 50cl       0.11   NaN   \n",
       "744877    744402   15.90                    côté veggie       0.83   NaN   \n",
       "\n",
       "         storeId                        createdAt  taxRate  \n",
       "113390        82 2023-04-08 16:22:30.427000+00:00     1000  \n",
       "1439169       67 2023-05-12 05:23:28.573000+00:00     1000  \n",
       "1779330     1490 2023-05-14 10:04:03.924000+00:00     1000  \n",
       "1771314      111 2023-05-14 08:21:34.243000+00:00      850  \n",
       "158288       137 2023-04-13 17:06:24.389000+00:00      550  \n",
       "2794884     1441 2023-05-22 20:09:22.581000+00:00     1000  \n",
       "1651832      366 2023-05-13 13:59:14.600000+00:00      550  \n",
       "2747260      702 2023-05-22 10:56:24.780000+00:00     1000  \n",
       "2865208     1603 2023-05-23 14:02:26.629000+00:00      550  \n",
       "744877        46 2023-05-06 16:46:26.174000+00:00      550  "
      ]
     },
     "execution_count": 17,
     "metadata": {},
     "output_type": "execute_result"
    }
   ],
   "source": [
    "df.sample(10)"
   ]
  },
  {
   "attachments": {},
   "cell_type": "markdown",
   "metadata": {},
   "source": [
    "#### Construct a new ``taxRateClass`` column to house the previously defined Tax Rate Classes."
   ]
  },
  {
   "cell_type": "code",
   "execution_count": 18,
   "metadata": {},
   "outputs": [],
   "source": [
    "df['taxRateClass'] = df['taxRate'].apply(lambda x:'no tax' if x==0 else('Low TaxRate' if x < 600 else ('Medium TaxRate' if x < 1200 else 'High TaxRate')))\n"
   ]
  },
  {
   "cell_type": "code",
   "execution_count": 19,
   "metadata": {},
   "outputs": [],
   "source": [
    "# Our goal is build a model capable of predecting the tax Rate Class\n",
    "# keeping the taxAmount or the taxRate columns will be considered as cheating, So we are going to drop them\n",
    "df.drop(['taxRate', 'taxAmount'], axis=1, inplace=True)"
   ]
  },
  {
   "attachments": {},
   "cell_type": "markdown",
   "metadata": {},
   "source": [
    "#### `createdAt` and `type` columns transformation:"
   ]
  },
  {
   "cell_type": "code",
   "execution_count": 20,
   "metadata": {},
   "outputs": [],
   "source": [
    "#creating new columns that makes the createdAt column more comprehensible\n",
    "df['hour_of_day'] = df['createdAt'].dt.hour\n",
    "df['day_of_week'] = df['createdAt'].dt.day_of_week\n",
    "df['day_of_month'] = df['createdAt'].dt.day\n",
    "\n",
    "#Delete the createdAt column:\n",
    "df.drop(['createdAt'], axis=1, inplace=True)\n",
    "\n",
    "#transform the type column:\n",
    "#we replace the menu by 1, the dish by 2, the NaN by 0(as else)\n",
    "df['type'] = df['type'].replace({'menu': 1, 'dish': 2})\n",
    "df['type'] = df['type'].fillna(0)"
   ]
  },
  {
   "cell_type": "code",
   "execution_count": 21,
   "metadata": {},
   "outputs": [
    {
     "data": {
      "text/html": [
       "<div>\n",
       "<style scoped>\n",
       "    .dataframe tbody tr th:only-of-type {\n",
       "        vertical-align: middle;\n",
       "    }\n",
       "\n",
       "    .dataframe tbody tr th {\n",
       "        vertical-align: top;\n",
       "    }\n",
       "\n",
       "    .dataframe thead th {\n",
       "        text-align: right;\n",
       "    }\n",
       "</style>\n",
       "<table border=\"1\" class=\"dataframe\">\n",
       "  <thead>\n",
       "    <tr style=\"text-align: right;\">\n",
       "      <th></th>\n",
       "      <th>id</th>\n",
       "      <th>amount</th>\n",
       "      <th>itemName</th>\n",
       "      <th>type</th>\n",
       "      <th>storeId</th>\n",
       "      <th>taxRateClass</th>\n",
       "      <th>hour_of_day</th>\n",
       "      <th>day_of_week</th>\n",
       "      <th>day_of_month</th>\n",
       "    </tr>\n",
       "  </thead>\n",
       "  <tbody>\n",
       "    <tr>\n",
       "      <th>1992313</th>\n",
       "      <td>1990856</td>\n",
       "      <td>14.00</td>\n",
       "      <td>indiv. chevre miel</td>\n",
       "      <td>0.0</td>\n",
       "      <td>798</td>\n",
       "      <td>Medium TaxRate</td>\n",
       "      <td>8</td>\n",
       "      <td>2</td>\n",
       "      <td>17</td>\n",
       "    </tr>\n",
       "    <tr>\n",
       "      <th>2890562</th>\n",
       "      <td>2888447</td>\n",
       "      <td>9.00</td>\n",
       "      <td>plat cuisse poulet</td>\n",
       "      <td>0.0</td>\n",
       "      <td>123</td>\n",
       "      <td>Low TaxRate</td>\n",
       "      <td>17</td>\n",
       "      <td>1</td>\n",
       "      <td>23</td>\n",
       "    </tr>\n",
       "    <tr>\n",
       "      <th>3033817</th>\n",
       "      <td>3031569</td>\n",
       "      <td>1.50</td>\n",
       "      <td>oeuf</td>\n",
       "      <td>0.0</td>\n",
       "      <td>181</td>\n",
       "      <td>Medium TaxRate</td>\n",
       "      <td>20</td>\n",
       "      <td>2</td>\n",
       "      <td>24</td>\n",
       "    </tr>\n",
       "    <tr>\n",
       "      <th>340336</th>\n",
       "      <td>340128</td>\n",
       "      <td>3.46</td>\n",
       "      <td>entremet 3 chocolats</td>\n",
       "      <td>0.0</td>\n",
       "      <td>290</td>\n",
       "      <td>Medium TaxRate</td>\n",
       "      <td>12</td>\n",
       "      <td>5</td>\n",
       "      <td>29</td>\n",
       "    </tr>\n",
       "    <tr>\n",
       "      <th>2823110</th>\n",
       "      <td>2821062</td>\n",
       "      <td>5.50</td>\n",
       "      <td>athena - tradition</td>\n",
       "      <td>0.0</td>\n",
       "      <td>920</td>\n",
       "      <td>Low TaxRate</td>\n",
       "      <td>10</td>\n",
       "      <td>1</td>\n",
       "      <td>23</td>\n",
       "    </tr>\n",
       "    <tr>\n",
       "      <th>1899673</th>\n",
       "      <td>1898285</td>\n",
       "      <td>8.50</td>\n",
       "      <td>assiette de 10 crevettes roses</td>\n",
       "      <td>0.0</td>\n",
       "      <td>12</td>\n",
       "      <td>Low TaxRate</td>\n",
       "      <td>18</td>\n",
       "      <td>0</td>\n",
       "      <td>15</td>\n",
       "    </tr>\n",
       "    <tr>\n",
       "      <th>273195</th>\n",
       "      <td>273031</td>\n",
       "      <td>0.00</td>\n",
       "      <td>asahi 35 cl</td>\n",
       "      <td>0.0</td>\n",
       "      <td>93</td>\n",
       "      <td>no tax</td>\n",
       "      <td>19</td>\n",
       "      <td>4</td>\n",
       "      <td>21</td>\n",
       "    </tr>\n",
       "    <tr>\n",
       "      <th>444266</th>\n",
       "      <td>443994</td>\n",
       "      <td>4.13</td>\n",
       "      <td>yakitori chicken barbecue</td>\n",
       "      <td>0.0</td>\n",
       "      <td>63</td>\n",
       "      <td>Low TaxRate</td>\n",
       "      <td>19</td>\n",
       "      <td>2</td>\n",
       "      <td>3</td>\n",
       "    </tr>\n",
       "    <tr>\n",
       "      <th>1306902</th>\n",
       "      <td>1306021</td>\n",
       "      <td>2.50</td>\n",
       "      <td>entree dessert</td>\n",
       "      <td>0.0</td>\n",
       "      <td>1347</td>\n",
       "      <td>Medium TaxRate</td>\n",
       "      <td>9</td>\n",
       "      <td>3</td>\n",
       "      <td>11</td>\n",
       "    </tr>\n",
       "    <tr>\n",
       "      <th>940070</th>\n",
       "      <td>939451</td>\n",
       "      <td>7.00</td>\n",
       "      <td>moelleux afro vegan</td>\n",
       "      <td>0.0</td>\n",
       "      <td>163</td>\n",
       "      <td>Medium TaxRate</td>\n",
       "      <td>12</td>\n",
       "      <td>0</td>\n",
       "      <td>8</td>\n",
       "    </tr>\n",
       "  </tbody>\n",
       "</table>\n",
       "</div>"
      ],
      "text/plain": [
       "              id  amount                        itemName  type  storeId  \\\n",
       "1992313  1990856   14.00              indiv. chevre miel   0.0      798   \n",
       "2890562  2888447    9.00              plat cuisse poulet   0.0      123   \n",
       "3033817  3031569    1.50                            oeuf   0.0      181   \n",
       "340336    340128    3.46            entremet 3 chocolats   0.0      290   \n",
       "2823110  2821062    5.50              athena - tradition   0.0      920   \n",
       "1899673  1898285    8.50  assiette de 10 crevettes roses   0.0       12   \n",
       "273195    273031    0.00                     asahi 35 cl   0.0       93   \n",
       "444266    443994    4.13       yakitori chicken barbecue   0.0       63   \n",
       "1306902  1306021    2.50                  entree dessert   0.0     1347   \n",
       "940070    939451    7.00             moelleux afro vegan   0.0      163   \n",
       "\n",
       "           taxRateClass  hour_of_day  day_of_week  day_of_month  \n",
       "1992313  Medium TaxRate            8            2            17  \n",
       "2890562     Low TaxRate           17            1            23  \n",
       "3033817  Medium TaxRate           20            2            24  \n",
       "340336   Medium TaxRate           12            5            29  \n",
       "2823110     Low TaxRate           10            1            23  \n",
       "1899673     Low TaxRate           18            0            15  \n",
       "273195           no tax           19            4            21  \n",
       "444266      Low TaxRate           19            2             3  \n",
       "1306902  Medium TaxRate            9            3            11  \n",
       "940070   Medium TaxRate           12            0             8  "
      ]
     },
     "execution_count": 21,
     "metadata": {},
     "output_type": "execute_result"
    }
   ],
   "source": [
    "df.sample(10)"
   ]
  },
  {
   "attachments": {},
   "cell_type": "markdown",
   "metadata": {},
   "source": [
    "### **``Discovering pattrens:``**"
   ]
  },
  {
   "attachments": {},
   "cell_type": "markdown",
   "metadata": {},
   "source": [
    "#### Plots:"
   ]
  },
  {
   "cell_type": "code",
   "execution_count": 22,
   "metadata": {},
   "outputs": [],
   "source": [
    "def plot_stacked_bars(name_of_column):\n",
    "    grouped_data = df.groupby([name_of_column, 'taxRateClass']).size().unstack()\n",
    "\n",
    "    # Calculate the total count for each day of the week\n",
    "    total_count = grouped_data.sum(axis=1)\n",
    "\n",
    "    # Calculate the relative frequency for each taxRateClass on each day of the week\n",
    "    relative_freq = grouped_data.divide(total_count, axis=0)\n",
    "\n",
    "    # Plot the stacked bar graph\n",
    "    relative_freq.plot(kind='bar', stacked=True)\n",
    "\n",
    "    # Set labels and title\n",
    "    plt.xlabel(name_of_column)\n",
    "    plt.ylabel('Relative Frequency')\n",
    "    plt.title(f'Stacked Bar Graph of Tax Rate Class by {name_of_column}')\n",
    "\n",
    "    # Show the legend\n",
    "    plt.legend(title='Tax Rate Class')\n",
    "\n",
    "    # Show the graph\n",
    "    plt.show()"
   ]
  },
  {
   "attachments": {},
   "cell_type": "markdown",
   "metadata": {},
   "source": [
    "Based on the analysis, it appears that the distribution of the tax rate classes remains consistent across different days. This lack of variation indicates that the tax rate class column does not provide any additional useful information. Therefore, it is recommended to remove or drop this column from the dataset.\n",
    "\n",
    "By removing the tax rate class column, we can simplify the dataset and potentially improve computational efficiency, as the column does not contribute significantly to the analysis or modeling process. "
   ]
  },
  {
   "cell_type": "code",
   "execution_count": 23,
   "metadata": {},
   "outputs": [
    {
     "data": {
      "image/png": "[encoded data removed]",
      "text/plain": [
       "<Figure size 640x480 with 1 Axes>"
      ]
     },
     "metadata": {},
     "output_type": "display_data"
    }
   ],
   "source": [
    "plot_stacked_bars('day_of_week')"
   ]
  },
  {
   "attachments": {},
   "cell_type": "markdown",
   "metadata": {},
   "source": [
    "Upon analyzing the graph, it becomes evident that there is a noticeable correlation between the day of the month and the tax rate. Specifically, we observe that the low tax rate tends to increase on the days {28, 29, 30, 1, 2, 3}, while the medium tax rate shows an upward trend on the days {5, 6, 7}.\n",
    "Hence, I will keep this attribut."
   ]
  },
  {
   "cell_type": "code",
   "execution_count": 24,
   "metadata": {},
   "outputs": [
    {
     "data": {
      "image/png": "[encoded data removed]",
      "text/plain": [
       "<Figure size 640x480 with 1 Axes>"
      ]
     },
     "metadata": {},
     "output_type": "display_data"
    }
   ],
   "source": [
    "plot_stacked_bars('day_of_month')"
   ]
  },
  {
   "attachments": {},
   "cell_type": "markdown",
   "metadata": {},
   "source": [
    "There exists a significant correlation between the hour of the day and the tax rate class. This correlation is explicitly demonstrated through the graph, indicating a clear relationship between these two variables. "
   ]
  },
  {
   "cell_type": "code",
   "execution_count": 25,
   "metadata": {},
   "outputs": [
    {
     "data": {
      "image/png": "[encoded data removed]",
      "text/plain": [
       "<Figure size 640x480 with 1 Axes>"
      ]
     },
     "metadata": {},
     "output_type": "display_data"
    }
   ],
   "source": [
    "plot_stacked_bars('hour_of_day')"
   ]
  },
  {
   "attachments": {},
   "cell_type": "markdown",
   "metadata": {},
   "source": [
    "#### Scaling the `amount` column and resolving the **skewness** problem:"
   ]
  },
  {
   "cell_type": "code",
   "execution_count": 26,
   "metadata": {},
   "outputs": [],
   "source": [
    "df0 = df.sample(n=100000, random_state=42).copy()"
   ]
  },
  {
   "cell_type": "code",
   "execution_count": 27,
   "metadata": {},
   "outputs": [
    {
     "name": "stdout",
     "output_type": "stream",
     "text": [
      "Skewness: 56.51\n",
      "                     Mean  Median      Max  Min  Standard Deviation\n",
      "taxRateClass                                                       \n",
      "High TaxRate     9.368563     5.5    895.0  0.0           21.238078\n",
      "Low TaxRate      8.664594     3.2  15500.0  0.0          163.195830\n",
      "Medium TaxRate   7.170483     5.0   1420.5  0.0           13.603640\n",
      "no tax          98.155456     1.4  32000.0  0.0          924.132200\n"
     ]
    }
   ],
   "source": [
    "# Group the data by 'taxRateClass' and calculate the statistical measures\n",
    "grouped_data = df0.groupby('taxRateClass')['amount'].agg(['mean', 'median', 'max', 'min',  'std'])\n",
    "\n",
    "# Rename the columns for better representation\n",
    "grouped_data.columns = ['Mean', 'Median', 'Max', 'Min', 'Standard Deviation']\n",
    "\n",
    "# Calculate the skewness of the column\n",
    "skewness = round(df0['amount'].skew(), 2)\n",
    "\n",
    "# Print the skewness value\n",
    "print(\"Skewness:\", skewness)\n",
    "\n",
    "# Display the table\n",
    "print(grouped_data)"
   ]
  },
  {
   "cell_type": "code",
   "execution_count": 28,
   "metadata": {},
   "outputs": [],
   "source": [
    "\n",
    "# Create a RobustScaler object\n",
    "scaler = RobustScaler()\n",
    "\n",
    "# Fit the scaler to the 'amount' column and transform the data\n",
    "df0['amount'] = scaler.fit_transform(df0[['amount']])\n"
   ]
  },
  {
   "cell_type": "code",
   "execution_count": 29,
   "metadata": {},
   "outputs": [],
   "source": [
    "df0 = df0[df0['amount'] >= 0]\n",
    "\n",
    "# Adding a small constant value to handle zero values\n",
    "epsilon = 1e-6\n",
    "df0['amount'] = boxcox(df0['amount'] + epsilon)[0]"
   ]
  },
  {
   "cell_type": "code",
   "execution_count": 30,
   "metadata": {},
   "outputs": [
    {
     "name": "stdout",
     "output_type": "stream",
     "text": [
      "Skewness: 0.1\n",
      "                    Mean    Median        Max        Min  Standard Deviation\n",
      "taxRateClass                                                                \n",
      "High TaxRate   -0.809870 -0.850460   5.350960  -5.669860            1.373808\n",
      "Low TaxRate    -0.737736 -0.649354   9.223367 -10.029919            1.440679\n",
      "Medium TaxRate -0.599773 -0.310714   5.943285 -10.029919            1.184781\n",
      "no tax          0.608732  0.281129  10.295899  -3.637509            1.906683\n"
     ]
    }
   ],
   "source": [
    "# Group the data by 'taxRateClass' and calculate the statistical measures\n",
    "grouped_data = df0.groupby('taxRateClass')['amount'].agg(['mean', 'median', 'max', 'min',  'std'])\n",
    "\n",
    "# Rename the columns for better representation\n",
    "grouped_data.columns = ['Mean', 'Median', 'Max', 'Min', 'Standard Deviation']\n",
    "\n",
    "# Calculate the skewness of the column\n",
    "skewness = round(df0['amount'].skew(), 2)\n",
    "\n",
    "# Print the skewness value\n",
    "print(\"Skewness:\", skewness)\n",
    "\n",
    "# Display the table\n",
    "print(grouped_data)\n"
   ]
  },
  {
   "attachments": {},
   "cell_type": "markdown",
   "metadata": {},
   "source": [
    "## **Training and Evaluation**"
   ]
  },
  {
   "attachments": {},
   "cell_type": "markdown",
   "metadata": {},
   "source": [
    "### **``Prepare Data For training:``**"
   ]
  },
  {
   "attachments": {},
   "cell_type": "markdown",
   "metadata": {},
   "source": [
    "#### Select the attributs: "
   ]
  },
  {
   "cell_type": "code",
   "execution_count": 31,
   "metadata": {},
   "outputs": [],
   "source": [
    "selected_features = ['amount', \n",
    "                     'itemName', \n",
    "                     'type', \n",
    "                     'storeId', \n",
    "                     'taxRateClass',\n",
    "                     'hour_of_day',\n",
    "                    #  'day_of_week', \n",
    "                     'day_of_month', \n",
    "                     ]\n",
    "dff = df0[selected_features]"
   ]
  },
  {
   "attachments": {},
   "cell_type": "markdown",
   "metadata": {},
   "source": [
    "####  Calculate Word Counts using CountVectorizer: "
   ]
  },
  {
   "cell_type": "code",
   "execution_count": 32,
   "metadata": {},
   "outputs": [
    {
     "data": {
      "text/html": [
       "<div>\n",
       "<style scoped>\n",
       "    .dataframe tbody tr th:only-of-type {\n",
       "        vertical-align: middle;\n",
       "    }\n",
       "\n",
       "    .dataframe tbody tr th {\n",
       "        vertical-align: top;\n",
       "    }\n",
       "\n",
       "    .dataframe thead th {\n",
       "        text-align: right;\n",
       "    }\n",
       "</style>\n",
       "<table border=\"1\" class=\"dataframe\">\n",
       "  <thead>\n",
       "    <tr style=\"text-align: right;\">\n",
       "      <th></th>\n",
       "      <th>amount</th>\n",
       "      <th>itemName</th>\n",
       "      <th>type</th>\n",
       "      <th>storeId</th>\n",
       "      <th>taxRateClass</th>\n",
       "      <th>hour_of_day</th>\n",
       "      <th>day_of_month</th>\n",
       "      <th>Word Counts</th>\n",
       "    </tr>\n",
       "  </thead>\n",
       "  <tbody>\n",
       "    <tr>\n",
       "      <th>426730</th>\n",
       "      <td>-1.753993</td>\n",
       "      <td>chicken burger</td>\n",
       "      <td>0.0</td>\n",
       "      <td>392</td>\n",
       "      <td>Medium TaxRate</td>\n",
       "      <td>10</td>\n",
       "      <td>5</td>\n",
       "      <td>{'burger': 1, 'chicken': 1}</td>\n",
       "    </tr>\n",
       "    <tr>\n",
       "      <th>738732</th>\n",
       "      <td>0.851360</td>\n",
       "      <td>patisserie libre</td>\n",
       "      <td>0.0</td>\n",
       "      <td>383</td>\n",
       "      <td>Low TaxRate</td>\n",
       "      <td>16</td>\n",
       "      <td>6</td>\n",
       "      <td>{'libre': 1, 'patisserie': 1}</td>\n",
       "    </tr>\n",
       "    <tr>\n",
       "      <th>1706238</th>\n",
       "      <td>0.286097</td>\n",
       "      <td>the jucy lucy</td>\n",
       "      <td>0.0</td>\n",
       "      <td>1087</td>\n",
       "      <td>Medium TaxRate</td>\n",
       "      <td>18</td>\n",
       "      <td>13</td>\n",
       "      <td>{'jucy': 1, 'lucy': 1, 'the': 1}</td>\n",
       "    </tr>\n",
       "    <tr>\n",
       "      <th>1076714</th>\n",
       "      <td>0.713783</td>\n",
       "      <td>grand menu midi</td>\n",
       "      <td>1.0</td>\n",
       "      <td>516</td>\n",
       "      <td>Medium TaxRate</td>\n",
       "      <td>11</td>\n",
       "      <td>9</td>\n",
       "      <td>{'grand': 1, 'menu': 1, 'midi': 1}</td>\n",
       "    </tr>\n",
       "    <tr>\n",
       "      <th>2280997</th>\n",
       "      <td>-0.062883</td>\n",
       "      <td>winter boeuf</td>\n",
       "      <td>0.0</td>\n",
       "      <td>185</td>\n",
       "      <td>Low TaxRate</td>\n",
       "      <td>11</td>\n",
       "      <td>19</td>\n",
       "      <td>{'boeuf': 1, 'winter': 1}</td>\n",
       "    </tr>\n",
       "  </tbody>\n",
       "</table>\n",
       "</div>"
      ],
      "text/plain": [
       "           amount          itemName  type  storeId    taxRateClass  \\\n",
       "426730  -1.753993    chicken burger   0.0      392  Medium TaxRate   \n",
       "738732   0.851360  patisserie libre   0.0      383     Low TaxRate   \n",
       "1706238  0.286097     the jucy lucy   0.0     1087  Medium TaxRate   \n",
       "1076714  0.713783   grand menu midi   1.0      516  Medium TaxRate   \n",
       "2280997 -0.062883      winter boeuf   0.0      185     Low TaxRate   \n",
       "\n",
       "         hour_of_day  day_of_month                         Word Counts  \n",
       "426730            10             5         {'burger': 1, 'chicken': 1}  \n",
       "738732            16             6       {'libre': 1, 'patisserie': 1}  \n",
       "1706238           18            13    {'jucy': 1, 'lucy': 1, 'the': 1}  \n",
       "1076714           11             9  {'grand': 1, 'menu': 1, 'midi': 1}  \n",
       "2280997           11            19           {'boeuf': 1, 'winter': 1}  "
      ]
     },
     "execution_count": 32,
     "metadata": {},
     "output_type": "execute_result"
    }
   ],
   "source": [
    "# CountVectorizer() converts a collection \n",
    "# of text documents to a matrix of token counts\n",
    "vectorizer = CountVectorizer()\n",
    "# assign a shorter name for the analyze\n",
    "# which tokenizes the string\n",
    "analyzer = vectorizer.build_analyzer()\n",
    "\n",
    "def wordcounts(s):\n",
    "    c = {}\n",
    "    # tokenize the string and continue, if it is not empty\n",
    "    if analyzer(s):\n",
    "        d = {}\n",
    "        # find counts of the vocabularies and transform to array \n",
    "        w = vectorizer.fit_transform([s]).toarray()\n",
    "        # vocabulary and index (index of w)\n",
    "        vc = vectorizer.vocabulary_\n",
    "        # items() transforms the dictionary's (word, index) tuple pairs\n",
    "        for k,v in vc.items():\n",
    "            d[v]=k # d -> index:word \n",
    "        for index,i in enumerate(w[0]):\n",
    "            c[d[index]] = i # c -> word:count\n",
    "    return  c\n",
    "\n",
    "# add new column to the dataframe\n",
    "dff['Word Counts'] = dff['itemName'].apply(wordcounts)\n",
    "dff.head()"
   ]
  },
  {
   "attachments": {},
   "cell_type": "markdown",
   "metadata": {},
   "source": [
    "#### Split Data into train Dataset, test Dataset:"
   ]
  },
  {
   "cell_type": "code",
   "execution_count": 33,
   "metadata": {},
   "outputs": [],
   "source": [
    "dff = pd.get_dummies(dff, columns=['type'])\n"
   ]
  },
  {
   "cell_type": "code",
   "execution_count": 34,
   "metadata": {},
   "outputs": [],
   "source": [
    "train_data,test_data = train_test_split(dff,train_size=0.8,random_state=0)\n",
    "X_train=train_data.drop(['taxRateClass'], axis=1)\n",
    "y_train=train_data['taxRateClass']\n",
    "X_test=test_data.drop(['taxRateClass'], axis=1)\n",
    "y_test=test_data['taxRateClass']"
   ]
  },
  {
   "cell_type": "code",
   "execution_count": 35,
   "metadata": {},
   "outputs": [],
   "source": [
    "# train_data,test_data = train_test_split(dff,train_size=0.8,random_state=0)\n",
    "# select the columns and \n",
    "# prepare data for the models \n",
    "X_train = vectorizer.fit_transform(X_train['itemName'])\n",
    "# y_train = train_data['taxRateClass']\n",
    "X_test = vectorizer.transform(X_test['itemName'])\n",
    "y_test = test_data['taxRateClass']"
   ]
  },
  {
   "attachments": {},
   "cell_type": "markdown",
   "metadata": {},
   "source": [
    "### **``Model training and evaluation:``**"
   ]
  },
  {
   "cell_type": "code",
   "execution_count": 36,
   "metadata": {},
   "outputs": [],
   "source": [
    "def evaluate(model):\n",
    "    model.fit(X_train,y_train)\n",
    "    y_pred=model.predict(X_test) \n",
    "    prob = model.predict_proba(X_test)\n",
    "    fpr = {}\n",
    "    tpr = {}\n",
    "    thresh ={}\n",
    "    for i in range(4):    \n",
    "        fpr[i], tpr[i], thresh[i] = roc_curve(y_test, prob[:,i], pos_label=i)\n",
    "    #printing the model name and accuracy !!!!!\n",
    "    print(\"Model name:---->>>\",model)\n",
    "    print(\"accuracy score:--->>\",accuracy_score(y_test,y_pred))\n",
    "    print(\"Overall Precision:--->>\",precision_score(y_test, y_pred, average='macro'))\n",
    "    print(\"Overall Recall:--->>\",recall_score(y_test, y_pred, average='macro'))\n",
    "    print('Average AUC:--->>', roc_auc_score(y_test,prob, multi_class='ovr'))\n",
    "    \n",
    "    print(\"\\n\")\n",
    "    print(classification_report(y_test,y_pred))\n",
    "    print(\"<<<<-------------------------------------------------------------------->>>>\")"
   ]
  },
  {
   "cell_type": "code",
   "execution_count": 37,
   "metadata": {},
   "outputs": [],
   "source": [
    "LR=LogisticRegression(C=10, penalty='l2', solver=\"newton-cg\") #Logistic regression.\n",
    "knn=KNeighborsClassifier(metric='manhattan',n_neighbors=1,weights='uniform') \n",
    "svc=SVC(C=1,gamma=1,kernel='rbf',random_state=42) # support vector classifier.\n",
    "dtc=DecisionTreeClassifier(max_depth= None, min_samples_leaf= 1, min_samples_split= 2)\n",
    "rf=RandomForestClassifier(random_state=42) #random forest classifier.\n",
    "xgb=XGBClassifier(objective='multi:softmax', eval_metric='mlogloss', learning_rate=1,n_estimators=700,random_state=42) #extream gradient boosting classifier.\n",
    "gbr=GradientBoostingClassifier(learning_rate= 1,n_estimators=500,criterion='mse',random_state=42)\n"
   ]
  },
  {
   "attachments": {},
   "cell_type": "markdown",
   "metadata": {},
   "source": [
    "##### **Support Vector Classifier:**"
   ]
  },
  {
   "attachments": {},
   "cell_type": "markdown",
   "metadata": {},
   "source": [
    "I encountered a challenge when training the SVC model on a high-scale dataset. The training process took an impractical amount of time for a dataset with a length of 3 million.\n",
    "\n",
    "Training the SVC model on 100,000 random samples from the original dataset already took 2 minutes. This indicates that training on the full dataset is impossible due to time constraints.\n",
    "\n"
   ]
  },
  {
   "cell_type": "code",
   "execution_count": 38,
   "metadata": {},
   "outputs": [
    {
     "name": "stdout",
     "output_type": "stream",
     "text": [
      "Model name:---->>> SVC(C=1, gamma=1, random_state=42)\n",
      "accuracy score:--->> 0.8275344931013797\n",
      "Overall Precision:--->> 0.8492723094719374\n",
      "Overall Recall:--->> 0.7715837772910169\n",
      "\n",
      "\n",
      "                precision    recall  f1-score   support\n",
      "\n",
      "  High TaxRate       0.92      0.81      0.86      1061\n",
      "   Low TaxRate       0.74      0.73      0.73      2360\n",
      "Medium TaxRate       0.84      0.89      0.86      5980\n",
      "        no tax       0.89      0.67      0.76       601\n",
      "\n",
      "      accuracy                           0.83     10002\n",
      "     macro avg       0.85      0.77      0.81     10002\n",
      "  weighted avg       0.83      0.83      0.83     10002\n",
      "\n",
      "<<<<-------------------------------------------------------------------->>>>\n"
     ]
    }
   ],
   "source": [
    "model=svc\n",
    "model.fit(X_train,y_train)\n",
    "y_pred=model.predict(X_test) \n",
    "# prob = model.predict_proba(X_test)\n",
    "# fpr = {}\n",
    "# tpr = {}\n",
    "# thresh ={}\n",
    "# for i in range(4):    \n",
    "#     fpr[i], tpr[i], thresh[i] = roc_curve(y_test, prob[:,i], pos_label=i)\n",
    "#printing the model name and accuracy !!!!!\n",
    "print(\"Model name:---->>>\",model)\n",
    "print(\"accuracy score:--->>\",accuracy_score(y_test,y_pred))\n",
    "print(\"Overall Precision:--->>\",precision_score(y_test, y_pred, average='macro'))\n",
    "print(\"Overall Recall:--->>\",recall_score(y_test, y_pred, average='macro'))\n",
    "# print('Average AUC:--->>', roc_auc_score(y_test,prob, multi_class='ovr'))\n",
    "\n",
    "print(\"\\n\")\n",
    "print(classification_report(y_test,y_pred))\n",
    "print(\"<<<<-------------------------------------------------------------------->>>>\")"
   ]
  },
  {
   "attachments": {},
   "cell_type": "markdown",
   "metadata": {},
   "source": [
    "##### **Logistic Regression:**"
   ]
  },
  {
   "attachments": {},
   "cell_type": "markdown",
   "metadata": {},
   "source": [
    "Despite promising results, the logistic regression model falls short in terms of performance compared to the Decision Tree Classifier (DTC), even after fine-tuning. While logistic regression may have certain advantages, such as interpretability and simplicity, it may not capture the underlying complexity of the dataset as effectively as the DTC. "
   ]
  },
  {
   "cell_type": "code",
   "execution_count": 39,
   "metadata": {},
   "outputs": [
    {
     "name": "stdout",
     "output_type": "stream",
     "text": [
      "Model name:---->>> LogisticRegression(C=10, solver='newton-cg')\n",
      "accuracy score:--->> 0.8170365926814637\n",
      "Overall Precision:--->> 0.8071702356926875\n",
      "Overall Recall:--->> 0.7711368469429993\n",
      "Average AUC:--->> 0.94214218659656\n",
      "\n",
      "\n",
      "                precision    recall  f1-score   support\n",
      "\n",
      "  High TaxRate       0.90      0.87      0.89      1061\n",
      "   Low TaxRate       0.70      0.74      0.72      2360\n",
      "Medium TaxRate       0.85      0.86      0.86      5980\n",
      "        no tax       0.77      0.62      0.68       601\n",
      "\n",
      "      accuracy                           0.82     10002\n",
      "     macro avg       0.81      0.77      0.79     10002\n",
      "  weighted avg       0.82      0.82      0.82     10002\n",
      "\n",
      "<<<<-------------------------------------------------------------------->>>>\n",
      "CPU times: total: 5.39 s\n",
      "Wall time: 5.75 s\n"
     ]
    }
   ],
   "source": [
    "# C=10, penalty='l2', solver=\"newton-cg\"\n",
    "%time evaluate(LR)"
   ]
  },
  {
   "cell_type": "code",
   "execution_count": 40,
   "metadata": {},
   "outputs": [
    {
     "name": "stdout",
     "output_type": "stream",
     "text": [
      "Best Hyperparameters: {'C': 10, 'penalty': 'l2', 'solver': 'saga'}\n",
      "Best Score: 0.8115786045364674\n"
     ]
    }
   ],
   "source": [
    "model = LogisticRegression()\n",
    "param_grid = {\n",
    "    'C': [0.1, 1.0, 10],\n",
    "    'penalty': ['l1', 'l2'],\n",
    "    'solver': ['liblinear', 'saga']\n",
    "}\n",
    "grid_search = GridSearchCV(model, param_grid, cv=5)\n",
    "grid_search.fit(X_train, y_train)\n",
    "best_params = grid_search.best_params_\n",
    "best_score = grid_search.best_score_\n",
    "print(\"Best Hyperparameters:\", best_params)\n",
    "print(\"Best Score:\", best_score)"
   ]
  },
  {
   "attachments": {},
   "cell_type": "markdown",
   "metadata": {},
   "source": [
    "##### **K-Nearest Neighbors:**"
   ]
  },
  {
   "attachments": {},
   "cell_type": "markdown",
   "metadata": {},
   "source": [
    "\n",
    "The KNN model was not applicable to a high-scale dataset due to limitations in available memory."
   ]
  },
  {
   "cell_type": "code",
   "execution_count": 41,
   "metadata": {},
   "outputs": [
    {
     "name": "stdout",
     "output_type": "stream",
     "text": [
      "Model name:---->>> KNeighborsClassifier(metric='manhattan', n_neighbors=1)\n",
      "accuracy score:--->> 0.7965406918616277\n",
      "Overall Precision:--->> 0.7804002749032539\n",
      "Overall Recall:--->> 0.768821750771177\n",
      "Average AUC:--->> 0.8359899761150773\n",
      "\n",
      "\n",
      "                precision    recall  f1-score   support\n",
      "\n",
      "  High TaxRate       0.91      0.83      0.87      1061\n",
      "   Low TaxRate       0.70      0.64      0.67      2360\n",
      "Medium TaxRate       0.83      0.86      0.84      5980\n",
      "        no tax       0.69      0.75      0.72       601\n",
      "\n",
      "      accuracy                           0.80     10002\n",
      "     macro avg       0.78      0.77      0.77     10002\n",
      "  weighted avg       0.80      0.80      0.80     10002\n",
      "\n",
      "<<<<-------------------------------------------------------------------->>>>\n",
      "CPU times: total: 40.7 s\n",
      "Wall time: 10.3 s\n"
     ]
    }
   ],
   "source": [
    "# This cell should be run when the number the samples does not exceed 300,000\n",
    "\n",
    "%time evaluate(knn)"
   ]
  },
  {
   "attachments": {},
   "cell_type": "markdown",
   "metadata": {},
   "source": [
    "##### ***Decision Tree Classifier***"
   ]
  },
  {
   "attachments": {},
   "cell_type": "markdown",
   "metadata": {},
   "source": [
    "Among the models evaluated, the Decision Tree Classifier (DTC) stands out as the most favorable option. It exhibits remarkable performance with a training time of under 2.5 seconds, when handling a dataset consisting of 100,000 samples. Furthermore, the DTC achieves the highest accuracy recorded thus far, reaching an impressive 83.4%. Additionally, the average Area Under the Curve (AUC) value stands at an encouraging 0.93, further demonstrating the model's effectiveness in classification tasks. The combination of fast training time, high accuracy, and strong AUC performance solidifies the DTC as the best model identified thus far in this project.\n",
    "\n",
    "\n",
    "\n",
    "\n"
   ]
  },
  {
   "cell_type": "code",
   "execution_count": 42,
   "metadata": {},
   "outputs": [
    {
     "name": "stdout",
     "output_type": "stream",
     "text": [
      "Model name:---->>> DecisionTreeClassifier()\n",
      "accuracy score:--->> 0.8341331733653269\n",
      "Overall Precision:--->> 0.8275603792149722\n",
      "Overall Recall:--->> 0.8058670270716364\n",
      "Average AUC:--->> 0.9291582476696412\n",
      "\n",
      "\n",
      "                precision    recall  f1-score   support\n",
      "\n",
      "  High TaxRate       0.89      0.88      0.88      1061\n",
      "   Low TaxRate       0.71      0.79      0.75      2360\n",
      "Medium TaxRate       0.88      0.86      0.87      5980\n",
      "        no tax       0.83      0.70      0.76       601\n",
      "\n",
      "      accuracy                           0.83     10002\n",
      "     macro avg       0.83      0.81      0.81     10002\n",
      "  weighted avg       0.84      0.83      0.84     10002\n",
      "\n",
      "<<<<-------------------------------------------------------------------->>>>\n",
      "CPU times: total: 1.88 s\n",
      "Wall time: 1.89 s\n"
     ]
    }
   ],
   "source": [
    "%time evaluate(dtc)"
   ]
  },
  {
   "cell_type": "code",
   "execution_count": 43,
   "metadata": {},
   "outputs": [
    {
     "name": "stdout",
     "output_type": "stream",
     "text": [
      "Best Hyperparameters: {'max_depth': None, 'min_samples_leaf': 1, 'min_samples_split': 2}\n",
      "Best Score: 0.8262012424652866\n"
     ]
    }
   ],
   "source": [
    "model = DecisionTreeClassifier()\n",
    "param_grid = {\n",
    "    'max_depth': [3, 5, 7, None],\n",
    "    'min_samples_split': [2, 5, 10, 50 ],\n",
    "    'min_samples_leaf': [1, 2, 3]\n",
    "}\n",
    "grid_search = GridSearchCV(model, param_grid, cv=5)\n",
    "grid_search.fit(X_train, y_train)\n",
    "best_params = grid_search.best_params_\n",
    "best_score = grid_search.best_score_\n",
    "print(\"Best Hyperparameters:\", best_params)\n",
    "print(\"Best Score:\", best_score)"
   ]
  },
  {
   "attachments": {},
   "cell_type": "markdown",
   "metadata": {},
   "source": [
    "##### **eXtreme Gradient Boosting:**"
   ]
  },
  {
   "attachments": {},
   "cell_type": "markdown",
   "metadata": {},
   "source": [
    "The XGB model, known for its popularity in Kaggle competitions, demonstrates a training time of 9.3 seconds. However, due to the substantial size of our dataset, it becomes challenging to determine the best hyperparameters for optimal performance. The computational demands posed by the large data make it regrettably impossible to extensively explore and fine-tune the hyperparameters of the XGB model.\n",
    "\n",
    "\n"
   ]
  },
  {
   "cell_type": "code",
   "execution_count": 44,
   "metadata": {},
   "outputs": [
    {
     "name": "stdout",
     "output_type": "stream",
     "text": [
      "Model name:---->>> XGBClassifier(base_score=0.5, booster='gbtree', colsample_bylevel=1,\n",
      "              colsample_bynode=1, colsample_bytree=1, enable_categorical=False,\n",
      "              eval_metric='mlogloss', gamma=0, gpu_id=-1, importance_type=None,\n",
      "              interaction_constraints='', learning_rate=1, max_delta_step=0,\n",
      "              max_depth=6, min_child_weight=1, missing=nan,\n",
      "              monotone_constraints='()', n_estimators=700, n_jobs=8,\n",
      "              num_parallel_tree=1, objective='multi:softprob', predictor='auto',\n",
      "              random_state=42, reg_alpha=0, reg_lambda=1, scale_pos_weight=None,\n",
      "              subsample=1, tree_method='exact', validate_parameters=1,\n",
      "              verbosity=None)\n",
      "accuracy score:--->> 0.8249350129974006\n",
      "Overall Precision:--->> 0.8362941076753934\n",
      "Overall Recall:--->> 0.768433603655963\n",
      "Average AUC:--->> 0.9464715434610604\n",
      "\n",
      "\n",
      "                precision    recall  f1-score   support\n",
      "\n",
      "  High TaxRate       0.89      0.84      0.86      1061\n",
      "   Low TaxRate       0.72      0.73      0.73      2360\n",
      "Medium TaxRate       0.85      0.88      0.86      5980\n",
      "        no tax       0.88      0.62      0.73       601\n",
      "\n",
      "      accuracy                           0.82     10002\n",
      "     macro avg       0.84      0.77      0.80     10002\n",
      "  weighted avg       0.83      0.82      0.82     10002\n",
      "\n",
      "<<<<-------------------------------------------------------------------->>>>\n",
      "CPU times: total: 1min 1s\n",
      "Wall time: 8.19 s\n"
     ]
    }
   ],
   "source": [
    "%time evaluate(xgb)"
   ]
  },
  {
   "cell_type": "code",
   "execution_count": 45,
   "metadata": {},
   "outputs": [
    {
     "name": "stdout",
     "output_type": "stream",
     "text": [
      "Best Hyperparameters: {'learning_rate': 1, 'max_depth': 7, 'n_estimators': 700}\n",
      "Best Score: 0.8170026984567444\n"
     ]
    }
   ],
   "source": [
    "from xgboost import XGBClassifier\n",
    "from sklearn.model_selection import GridSearchCV\n",
    "\n",
    "# Create an instance of the XGBClassifier\n",
    "xgb_model = XGBClassifier(objective='multi:softmax', eval_metric='mlogloss')\n",
    "\n",
    "# Define the parameter grid for grid search\n",
    "param_grid = {\n",
    "    'learning_rate': [1, 2],\n",
    "    'n_estimators': [500, 700],\n",
    "    'max_depth': [5, 7]\n",
    "}\n",
    "\n",
    "# Create the GridSearchCV object\n",
    "grid_search = GridSearchCV(estimator=xgb_model, param_grid=param_grid, cv=5, scoring='accuracy')\n",
    "\n",
    "# Fit the GridSearchCV object to the data\n",
    "grid_search.fit(X_train, y_train)\n",
    "\n",
    "# Print the best hyperparameters and the corresponding best score\n",
    "print(\"Best Hyperparameters:\", grid_search.best_params_)\n",
    "print(\"Best Score:\", grid_search.best_score_)"
   ]
  },
  {
   "attachments": {},
   "cell_type": "markdown",
   "metadata": {},
   "source": [
    "##### **Gradient Boosting Classifier:**"
   ]
  },
  {
   "attachments": {},
   "cell_type": "markdown",
   "metadata": {},
   "source": [
    "Similar to the XGB model, this model also faces the same limitations when it comes to training the entire dataset. Due to the size and complexity of the dataset, it is impractical and impossible to train the model on the complete dataset."
   ]
  },
  {
   "cell_type": "code",
   "execution_count": 46,
   "metadata": {},
   "outputs": [
    {
     "name": "stdout",
     "output_type": "stream",
     "text": [
      "Model name:---->>> GradientBoostingClassifier(criterion='mse', learning_rate=1, n_estimators=500,\n",
      "                           random_state=42)\n",
      "accuracy score:--->> 0.7623475304939012\n",
      "Overall Precision:--->> 0.7888636668231117\n",
      "Overall Recall:--->> 0.6268735514543137\n",
      "Average AUC:--->> 0.8348733561572403\n",
      "\n",
      "\n",
      "                precision    recall  f1-score   support\n",
      "\n",
      "  High TaxRate       0.86      0.71      0.78      1061\n",
      "   Low TaxRate       0.71      0.55      0.62      2360\n",
      "Medium TaxRate       0.76      0.90      0.82      5980\n",
      "        no tax       0.83      0.35      0.49       601\n",
      "\n",
      "      accuracy                           0.76     10002\n",
      "     macro avg       0.79      0.63      0.68     10002\n",
      "  weighted avg       0.76      0.76      0.75     10002\n",
      "\n",
      "<<<<-------------------------------------------------------------------->>>>\n",
      "CPU times: total: 26.4 s\n",
      "Wall time: 26.5 s\n"
     ]
    }
   ],
   "source": [
    "%time evaluate(gbr)"
   ]
  },
  {
   "attachments": {},
   "cell_type": "markdown",
   "metadata": {},
   "source": [
    "##### **Conclusion:**"
   ]
  },
  {
   "attachments": {},
   "cell_type": "markdown",
   "metadata": {},
   "source": [
    "Based on the previous comparison and analysis, we can confidently conclude that the Decision Tree Classifier (DTC) is the optimal model for our classification problem. The DTC consistently demonstrated the best performance across various metrics, including accuracy and training time. With an impressive accuracy score, it proves to be highly effective in capturing the underlying patterns within the dataset. Furthermore, the scalability of the DTC is noteworthy, as it exhibits reasonable training times even with larger datasets. These combined factors make the DTC the most suitable choice for our classification problem, ensuring both high performance and efficient scalability.\n",
    "\n",
    "\n",
    "\n",
    "\n"
   ]
  },
  {
   "attachments": {},
   "cell_type": "markdown",
   "metadata": {},
   "source": [
    "## **OUR MODEL:**"
   ]
  },
  {
   "cell_type": "code",
   "execution_count": 47,
   "metadata": {},
   "outputs": [
    {
     "name": "stdout",
     "output_type": "stream",
     "text": [
      "Skewness: 263.56\n",
      "                      Mean  Median       Max  Min  Standard Deviation\n",
      "taxRateClass                                                         \n",
      "High TaxRate      9.303224    5.20   12000.0  0.0           54.339315\n",
      "Low TaxRate       9.748050    3.15  333333.0  0.0          441.059945\n",
      "Medium TaxRate    7.282431    5.00   99999.0  0.0           81.219434\n",
      "no tax          104.456326    1.40   85000.0  0.0         1059.628983\n"
     ]
    }
   ],
   "source": [
    "# Group the data by 'taxRateClass' and calculate the statistical measures\n",
    "grouped_data = df.groupby('taxRateClass')['amount'].agg(['mean', 'median', 'max', 'min',  'std'])\n",
    "\n",
    "# Rename the columns for better representation\n",
    "grouped_data.columns = ['Mean', 'Median', 'Max', 'Min', 'Standard Deviation']\n",
    "\n",
    "# Calculate the skewness of the column\n",
    "skewness = round(df['amount'].skew(), 2)\n",
    "\n",
    "# Print the skewness value\n",
    "print(\"Skewness:\", skewness)\n",
    "\n",
    "# Display the table\n",
    "print(grouped_data)"
   ]
  },
  {
   "cell_type": "code",
   "execution_count": 48,
   "metadata": {},
   "outputs": [
    {
     "name": "stdout",
     "output_type": "stream",
     "text": [
      "Skewness: 0.1\n",
      "                    Mean    Median        Max        Min  Standard Deviation\n",
      "taxRateClass                                                                \n",
      "High TaxRate   -0.809870 -0.850460   5.350960  -5.669860            1.373808\n",
      "Low TaxRate    -0.737736 -0.649354   9.223367 -10.029919            1.440679\n",
      "Medium TaxRate -0.599773 -0.310714   5.943285 -10.029919            1.184781\n",
      "no tax          0.608732  0.281129  10.295899  -3.637509            1.906683\n"
     ]
    }
   ],
   "source": [
    "# Create a RobustScaler object\n",
    "scaler = RobustScaler()\n",
    "\n",
    "# Fit the scaler to the 'amount' column and transform the data\n",
    "df['amount'] = scaler.fit_transform(df[['amount']])\n",
    "\n",
    "df = df[df['amount'] >= 0]\n",
    "\n",
    "# Adding a small constant value to handle zero values\n",
    "epsilon = 1e-6\n",
    "df['amount'] = boxcox(df['amount'] + epsilon)[0]\n",
    "\n",
    "# Group the data by 'taxRateClass' and calculate the statistical measures\n",
    "grouped_data = df0.groupby('taxRateClass')['amount'].agg(['mean', 'median', 'max', 'min',  'std'])\n",
    "\n",
    "# Rename the columns for better representation\n",
    "grouped_data.columns = ['Mean', 'Median', 'Max', 'Min', 'Standard Deviation']\n",
    "\n",
    "# Calculate the skewness of the column\n",
    "skewness = round(df0['amount'].skew(), 2)\n",
    "\n",
    "# Print the skewness value\n",
    "print(\"Skewness:\",skewness)\n",
    "\n",
    "# Display the table\n",
    "print(grouped_data)"
   ]
  },
  {
   "cell_type": "code",
   "execution_count": 49,
   "metadata": {},
   "outputs": [],
   "source": [
    "selected_features = ['amount', \n",
    "                     'itemName', \n",
    "                    #  'type', \n",
    "                    #  'storeId', \n",
    "                     'taxRateClass',\n",
    "                    #  'hour_of_day',\n",
    "                    #  'day_of_week', \n",
    "                    #  'day_of_month', \n",
    "                     ]\n",
    "dff = df[selected_features]"
   ]
  },
  {
   "cell_type": "code",
   "execution_count": 50,
   "metadata": {},
   "outputs": [
    {
     "data": {
      "text/html": [
       "<div>\n",
       "<style scoped>\n",
       "    .dataframe tbody tr th:only-of-type {\n",
       "        vertical-align: middle;\n",
       "    }\n",
       "\n",
       "    .dataframe tbody tr th {\n",
       "        vertical-align: top;\n",
       "    }\n",
       "\n",
       "    .dataframe thead th {\n",
       "        text-align: right;\n",
       "    }\n",
       "</style>\n",
       "<table border=\"1\" class=\"dataframe\">\n",
       "  <thead>\n",
       "    <tr style=\"text-align: right;\">\n",
       "      <th></th>\n",
       "      <th>amount</th>\n",
       "      <th>itemName</th>\n",
       "      <th>taxRateClass</th>\n",
       "      <th>Word Counts</th>\n",
       "    </tr>\n",
       "  </thead>\n",
       "  <tbody>\n",
       "    <tr>\n",
       "      <th>1</th>\n",
       "      <td>0.239226</td>\n",
       "      <td>formule boeuf  🥙🍟🥤</td>\n",
       "      <td>no tax</td>\n",
       "      <td>{'boeuf': 1, 'formule': 1}</td>\n",
       "    </tr>\n",
       "    <tr>\n",
       "      <th>2</th>\n",
       "      <td>-0.542279</td>\n",
       "      <td>pita boeuf</td>\n",
       "      <td>Medium TaxRate</td>\n",
       "      <td>{'boeuf': 1, 'pita': 1}</td>\n",
       "    </tr>\n",
       "    <tr>\n",
       "      <th>5</th>\n",
       "      <td>-0.472115</td>\n",
       "      <td>divers tva 5.5%</td>\n",
       "      <td>Low TaxRate</td>\n",
       "      <td>{'divers': 1, 'tva': 1}</td>\n",
       "    </tr>\n",
       "    <tr>\n",
       "      <th>7</th>\n",
       "      <td>-0.807979</td>\n",
       "      <td>50cl ipa \"la félicité\" - pression</td>\n",
       "      <td>High TaxRate</td>\n",
       "      <td>{'50cl': 1, 'félicité': 1, 'ipa': 1, 'la': 1, ...</td>\n",
       "    </tr>\n",
       "    <tr>\n",
       "      <th>8</th>\n",
       "      <td>0.872765</td>\n",
       "      <td>côté california</td>\n",
       "      <td>Low TaxRate</td>\n",
       "      <td>{'california': 1, 'côté': 1}</td>\n",
       "    </tr>\n",
       "  </tbody>\n",
       "</table>\n",
       "</div>"
      ],
      "text/plain": [
       "     amount                           itemName    taxRateClass  \\\n",
       "1  0.239226                 formule boeuf  🥙🍟🥤          no tax   \n",
       "2 -0.542279                         pita boeuf  Medium TaxRate   \n",
       "5 -0.472115                    divers tva 5.5%     Low TaxRate   \n",
       "7 -0.807979  50cl ipa \"la félicité\" - pression    High TaxRate   \n",
       "8  0.872765                    côté california     Low TaxRate   \n",
       "\n",
       "                                         Word Counts  \n",
       "1                         {'boeuf': 1, 'formule': 1}  \n",
       "2                            {'boeuf': 1, 'pita': 1}  \n",
       "5                            {'divers': 1, 'tva': 1}  \n",
       "7  {'50cl': 1, 'félicité': 1, 'ipa': 1, 'la': 1, ...  \n",
       "8                       {'california': 1, 'côté': 1}  "
      ]
     },
     "execution_count": 50,
     "metadata": {},
     "output_type": "execute_result"
    }
   ],
   "source": [
    "# CountVectorizer() converts a collection \n",
    "# of text documents to a matrix of token counts\n",
    "vectorizer = CountVectorizer()\n",
    "# assign a shorter name for the analyze\n",
    "# which tokenizes the string\n",
    "analyzer = vectorizer.build_analyzer()\n",
    "\n",
    "def wordcounts(s):\n",
    "    c = {}\n",
    "    # tokenize the string and continue, if it is not empty\n",
    "    if analyzer(s):\n",
    "        d = {}\n",
    "        # find counts of the vocabularies and transform to array \n",
    "        w = vectorizer.fit_transform([s]).toarray()\n",
    "        # vocabulary and index (index of w)\n",
    "        vc = vectorizer.vocabulary_\n",
    "        # items() transforms the dictionary's (word, index) tuple pairs\n",
    "        for k,v in vc.items():\n",
    "            d[v]=k # d -> index:word \n",
    "        for index,i in enumerate(w[0]):\n",
    "            c[d[index]] = i # c -> word:count\n",
    "    return  c\n",
    "\n",
    "# add new column to the dataframe\n",
    "dff['Word Counts'] = dff['itemName'].apply(wordcounts)\n",
    "dff.head()"
   ]
  },
  {
   "cell_type": "code",
   "execution_count": 51,
   "metadata": {},
   "outputs": [],
   "source": [
    "# dff = pd.get_dummies(dff, columns=['type'])\n",
    "\n",
    "train_data,test_data = train_test_split(dff,train_size=0.8,random_state=0)\n",
    "X_train=train_data.drop(['taxRateClass'], axis=1)\n",
    "y_train=train_data['taxRateClass']\n",
    "X_test=test_data.drop(['taxRateClass'], axis=1)\n",
    "y_test=test_data['taxRateClass']\n",
    "\n",
    "# train_data,test_data = train_test_split(dff,train_size=0.8,random_state=0)\n",
    "# select the columns and \n",
    "# prepare data for the models \n",
    "X_train = vectorizer.fit_transform(X_train['itemName'])\n",
    "# y_train = train_data['taxRateClass']\n",
    "X_test = vectorizer.transform(X_test['itemName'])\n",
    "y_test = test_data['taxRateClass']"
   ]
  },
  {
   "cell_type": "code",
   "execution_count": 55,
   "metadata": {},
   "outputs": [
    {
     "name": "stdout",
     "output_type": "stream",
     "text": [
      "Model name:---->>> DecisionTreeClassifier()\n",
      "accuracy score:--->> 0.8888304795442382\n",
      "Overall Precision:--->> 0.8956854461654601\n",
      "Overall Recall:--->> 0.87547948209818\n",
      "Average AUC:--->> 0.9803205781581804\n",
      "\n",
      "\n",
      "                precision    recall  f1-score   support\n",
      "\n",
      "  High TaxRate       0.96      0.97      0.96     33839\n",
      "   Low TaxRate       0.78      0.88      0.82     75349\n",
      "Medium TaxRate       0.93      0.89      0.91    186849\n",
      "        no tax       0.92      0.76      0.83     19742\n",
      "\n",
      "      accuracy                           0.89    315779\n",
      "     macro avg       0.90      0.88      0.88    315779\n",
      "  weighted avg       0.89      0.89      0.89    315779\n",
      "\n",
      "<<<<-------------------------------------------------------------------->>>>\n"
     ]
    }
   ],
   "source": [
    "final_dtc=DecisionTreeClassifier(max_depth= None, min_samples_leaf= 1, min_samples_split= 2)\n",
    "evaluate(final_dtc)"
   ]
  },
  {
   "attachments": {},
   "cell_type": "markdown",
   "metadata": {},
   "source": [
    "## **The Function:**"
   ]
  },
  {
   "cell_type": "code",
   "execution_count": 56,
   "metadata": {},
   "outputs": [],
   "source": [
    "import pickle\n",
    "import random \n",
    "\n",
    "# After training your Decision Tree Classifier\n",
    "# Save the model\n",
    "with open('final_dtc.pkl', 'wb') as f:\n",
    "    pickle.dump(final_dtc, f)\n",
    "\n",
    "# Save the vectorizer\n",
    "with open('vectorizer.pkl', 'wb') as f:\n",
    "    pickle.dump(vectorizer, f)\n",
    "    \n",
    "# save teh scaler\n",
    "with open(\"scaler.pkl\", \"wb\") as file:\n",
    "    pickle.dump(scaler, file)"
   ]
  },
  {
   "cell_type": "code",
   "execution_count": 57,
   "metadata": {},
   "outputs": [],
   "source": [
    "# Load the trained model and vectorizer\n",
    "with open('final_dtc.pkl', 'rb') as f:\n",
    "    final_dtc = pickle.load(f)\n",
    "\n",
    "with open('vectorizer.pkl', 'rb') as f:\n",
    "    vectorizer = pickle.load(f)\n",
    "\n",
    "# Load the scaler object from the pickle file\n",
    "with open(\"scaler.pkl\", \"rb\") as file:\n",
    "    scaler = pickle.load(file)"
   ]
  },
  {
   "cell_type": "code",
   "execution_count": 58,
   "metadata": {},
   "outputs": [
    {
     "data": {
      "text/html": [
       "<style>#sk-container-id-1 {color: black;background-color: white;}#sk-container-id-1 pre{padding: 0;}#sk-container-id-1 div.sk-toggleable {background-color: white;}#sk-container-id-1 label.sk-toggleable__label {cursor: pointer;display: block;width: 100%;margin-bottom: 0;padding: 0.3em;box-sizing: border-box;text-align: center;}#sk-container-id-1 label.sk-toggleable__label-arrow:before {content: \"▸\";float: left;margin-right: 0.25em;color: #696969;}#sk-container-id-1 label.sk-toggleable__label-arrow:hover:before {color: black;}#sk-container-id-1 div.sk-estimator:hover label.sk-toggleable__label-arrow:before {color: black;}#sk-container-id-1 div.sk-toggleable__content {max-height: 0;max-width: 0;overflow: hidden;text-align: left;background-color: #f0f8ff;}#sk-container-id-1 div.sk-toggleable__content pre {margin: 0.2em;color: black;border-radius: 0.25em;background-color: #f0f8ff;}#sk-container-id-1 input.sk-toggleable__control:checked~div.sk-toggleable__content {max-height: 200px;max-width: 100%;overflow: auto;}#sk-container-id-1 input.sk-toggleable__control:checked~label.sk-toggleable__label-arrow:before {content: \"▾\";}#sk-container-id-1 div.sk-estimator input.sk-toggleable__control:checked~label.sk-toggleable__label {background-color: #d4ebff;}#sk-container-id-1 div.sk-label input.sk-toggleable__control:checked~label.sk-toggleable__label {background-color: #d4ebff;}#sk-container-id-1 input.sk-hidden--visually {border: 0;clip: rect(1px 1px 1px 1px);clip: rect(1px, 1px, 1px, 1px);height: 1px;margin: -1px;overflow: hidden;padding: 0;position: absolute;width: 1px;}#sk-container-id-1 div.sk-estimator {font-family: monospace;background-color: #f0f8ff;border: 1px dotted black;border-radius: 0.25em;box-sizing: border-box;margin-bottom: 0.5em;}#sk-container-id-1 div.sk-estimator:hover {background-color: #d4ebff;}#sk-container-id-1 div.sk-parallel-item::after {content: \"\";width: 100%;border-bottom: 1px solid gray;flex-grow: 1;}#sk-container-id-1 div.sk-label:hover label.sk-toggleable__label {background-color: #d4ebff;}#sk-container-id-1 div.sk-serial::before {content: \"\";position: absolute;border-left: 1px solid gray;box-sizing: border-box;top: 0;bottom: 0;left: 50%;z-index: 0;}#sk-container-id-1 div.sk-serial {display: flex;flex-direction: column;align-items: center;background-color: white;padding-right: 0.2em;padding-left: 0.2em;position: relative;}#sk-container-id-1 div.sk-item {position: relative;z-index: 1;}#sk-container-id-1 div.sk-parallel {display: flex;align-items: stretch;justify-content: center;background-color: white;position: relative;}#sk-container-id-1 div.sk-item::before, #sk-container-id-1 div.sk-parallel-item::before {content: \"\";position: absolute;border-left: 1px solid gray;box-sizing: border-box;top: 0;bottom: 0;left: 50%;z-index: -1;}#sk-container-id-1 div.sk-parallel-item {display: flex;flex-direction: column;z-index: 1;position: relative;background-color: white;}#sk-container-id-1 div.sk-parallel-item:first-child::after {align-self: flex-end;width: 50%;}#sk-container-id-1 div.sk-parallel-item:last-child::after {align-self: flex-start;width: 50%;}#sk-container-id-1 div.sk-parallel-item:only-child::after {width: 0;}#sk-container-id-1 div.sk-dashed-wrapped {border: 1px dashed gray;margin: 0 0.4em 0.5em 0.4em;box-sizing: border-box;padding-bottom: 0.4em;background-color: white;}#sk-container-id-1 div.sk-label label {font-family: monospace;font-weight: bold;display: inline-block;line-height: 1.2em;}#sk-container-id-1 div.sk-label-container {text-align: center;}#sk-container-id-1 div.sk-container {/* jupyter's `normalize.less` sets `[hidden] { display: none; }` but bootstrap.min.css set `[hidden] { display: none !important; }` so we also need the `!important` here to be able to override the default hidden behavior on the sphinx rendered scikit-learn.org. See: https://github.com/scikit-learn/scikit-learn/issues/21755 */display: inline-block !important;position: relative;}#sk-container-id-1 div.sk-text-repr-fallback {display: none;}</style><div id=\"sk-container-id-1\" class=\"sk-top-container\"><div class=\"sk-text-repr-fallback\"><pre>CountVectorizer()</pre><b>In a Jupyter environment, please rerun this cell to show the HTML representation or trust the notebook. <br />On GitHub, the HTML representation is unable to render, please try loading this page with nbviewer.org.</b></div><div class=\"sk-container\" hidden><div class=\"sk-item\"><div class=\"sk-estimator sk-toggleable\"><input class=\"sk-toggleable__control sk-hidden--visually\" id=\"sk-estimator-id-1\" type=\"checkbox\" checked><label for=\"sk-estimator-id-1\" class=\"sk-toggleable__label sk-toggleable__label-arrow\">CountVectorizer</label><div class=\"sk-toggleable__content\"><pre>CountVectorizer()</pre></div></div></div></div></div>"
      ],
      "text/plain": [
       "CountVectorizer()"
      ]
     },
     "execution_count": 58,
     "metadata": {},
     "output_type": "execute_result"
    }
   ],
   "source": [
    "vectorizer"
   ]
  },
  {
   "cell_type": "code",
   "execution_count": 59,
   "metadata": {},
   "outputs": [],
   "source": [
    "def predict_tax_rate_class(itemName, amount):\n",
    "    # Construct a dataframe from the inputs\n",
    "    data = {\n",
    "        'itemName': [itemName],\n",
    "        'amount': [amount]\n",
    "    }\n",
    "    new_data = pd.DataFrame(data)\n",
    "\n",
    "    new_data['amount'] = scaler.transform(new_data[['amount']])\n",
    "\n",
    "    # Vectorize 'itemName' using CountVectorizer\n",
    "    # Here I am assuming you have loaded the trained vectorizer into a variable named 'vectorizer'\n",
    "    itemName_transformed = vectorizer.transform(new_data['itemName']).toarray()\n",
    "    df_itemName = pd.DataFrame(itemName_transformed, columns=vectorizer.get_feature_names())\n",
    "    new_data = pd.concat([new_data, df_itemName], axis=1)\n",
    "    new_data = new_data.drop(columns=['itemName', '00'])  # Drop the original 'itemName' column\n",
    "\n",
    "\n",
    "\n",
    "    # print(new_data.iloc[0])\n",
    "\n",
    "    # Making prediction\n",
    "    prediction = final_dtc.predict(new_data)\n",
    "\n",
    "    return prediction[0]\n"
   ]
  },
  {
   "cell_type": "code",
   "execution_count": 60,
   "metadata": {},
   "outputs": [
    {
     "data": {
      "text/plain": [
       "'no tax'"
      ]
     },
     "execution_count": 60,
     "metadata": {},
     "output_type": "execute_result"
    }
   ],
   "source": [
    "predict_tax_rate_class(itemName= \"menu étudiant\", amount=8)\n"
   ]
  }
 ],
 "metadata": {
  "kernelspec": {
   "display_name": "base",
   "language": "python",
   "name": "python3"
  },
  "language_info": {
   "codemirror_mode": {
    "name": "ipython",
    "version": 3
   },
   "file_extension": ".py",
   "mimetype": "text/x-python",
   "name": "python",
   "nbconvert_exporter": "python",
   "pygments_lexer": "ipython3",
   "version": "3.9.7"
  },
  "orig_nbformat": 4
 },
 "nbformat": 4,
 "nbformat_minor": 2
}
